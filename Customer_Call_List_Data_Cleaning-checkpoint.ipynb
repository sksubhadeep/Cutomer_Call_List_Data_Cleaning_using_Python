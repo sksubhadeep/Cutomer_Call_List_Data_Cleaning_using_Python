{
 "cells": [
  {
   "cell_type": "code",
   "execution_count": 32,
   "id": "6acb67ae",
   "metadata": {},
   "outputs": [],
   "source": [
    "#importing data from directory\n",
    "import pandas as pd\n",
    "df = pd.read_excel(r'C:\\Users\\sksub\\OneDrive\\Desktop\\Data\\Customer Call List.xlsx')"
   ]
  },
  {
   "cell_type": "code",
   "execution_count": 33,
   "id": "bc400559",
   "metadata": {},
   "outputs": [],
   "source": [
    "#Deleting the Duplicate rows from the Customer call list Dataframe\n",
    "df=df.drop_duplicates()"
   ]
  },
  {
   "cell_type": "code",
   "execution_count": 34,
   "id": "fd5bea0f",
   "metadata": {},
   "outputs": [],
   "source": [
    "#Removing 'Not_Useful_Column'\n",
    "df=df.drop(columns='Not_Useful_Column')"
   ]
  },
  {
   "cell_type": "code",
   "execution_count": 35,
   "id": "e25a38cc",
   "metadata": {},
   "outputs": [],
   "source": [
    "#Cleaning the column 'Last_Name'\n",
    "df['Last_Name']=df['Last_Name'].str.lstrip(\"/\")\n",
    "df['Last_Name']=df['Last_Name'].str.lstrip(\"...\")\n",
    "df['Last_Name']=df['Last_Name'].str.rstrip(\"_\")"
   ]
  },
  {
   "cell_type": "code",
   "execution_count": 36,
   "id": "1fb48f8a",
   "metadata": {},
   "outputs": [
    {
     "name": "stderr",
     "output_type": "stream",
     "text": [
      "C:\\Users\\sksub\\AppData\\Local\\Temp\\ipykernel_19656\\4230040241.py:2: FutureWarning: The default value of regex will change from True to False in a future version.\n",
      "  df['Phone_Number']=df['Phone_Number'].str.replace('[^a-zA-Z0-9]','')\n"
     ]
    }
   ],
   "source": [
    "#Replacing the Phone numbers with correct format\n",
    "df['Phone_Number']=df['Phone_Number'].str.replace('[^a-zA-Z0-9]','')\n",
    "df['Phone_Number']=df['Phone_Number'].apply(lambda x : str(x))\n",
    "df['Phone_Number']=df['Phone_Number'].apply(lambda x : x[0:3] + '-' + x[3:6] + '-' + x[6:10])\n",
    "df['Phone_Number']=df['Phone_Number'].str.replace('nan--','')\n",
    "df['Phone_Number']=df['Phone_Number'].str.replace('Na--','')"
   ]
  },
  {
   "cell_type": "code",
   "execution_count": 38,
   "id": "e28eca7e",
   "metadata": {},
   "outputs": [],
   "source": [
    "#Splitting the address into Street_Address, State and Zipcode\n",
    "df[['Street_Address','State','Zipcode']]=df['Address'].str.split(',',2,expand=True)\n",
    "df=df.drop(columns='Address')"
   ]
  },
  {
   "cell_type": "code",
   "execution_count": 44,
   "id": "4a5fdfec",
   "metadata": {},
   "outputs": [],
   "source": [
    "#Standardize Boolean columns\n",
    "df['Paying Customer']=df['Paying Customer'].str.replace('Yes','Y')\n",
    "df['Paying Customer']=df['Paying Customer'].str.replace('No','N')\n",
    "df['Paying Customer']=df['Paying Customer'].str.replace('N/a','')\n",
    "df['Do_Not_Contact']=df['Do_Not_Contact'].str.replace('Yes','Y')\n",
    "df['Do_Not_Contact']=df['Do_Not_Contact'].str.replace('No','N')\n",
    "df['Do_Not_Contact']=df['Do_Not_Contact'].str.replace('NaN','')\n",
    "df.fillna('')"
   ]
  },
  {
   "cell_type": "code",
   "execution_count": 51,
   "id": "34abeb4d",
   "metadata": {},
   "outputs": [],
   "source": [
    "#Removing the data of the customers whose phone nimbers are not given or who do not want us to contact\n",
    "for x in df.index:\n",
    "    if (df.loc[x,'Do_Not_Contact'] == 'Y') or (df.loc[x,'Phone_Number'] == ''):\n",
    "        df.drop(x,inplace=True)"
   ]
  },
  {
   "cell_type": "code",
   "execution_count": 54,
   "id": "eaa82230",
   "metadata": {},
   "outputs": [
    {
     "data": {
      "text/html": [
       "<div>\n",
       "<style scoped>\n",
       "    .dataframe tbody tr th:only-of-type {\n",
       "        vertical-align: middle;\n",
       "    }\n",
       "\n",
       "    .dataframe tbody tr th {\n",
       "        vertical-align: top;\n",
       "    }\n",
       "\n",
       "    .dataframe thead th {\n",
       "        text-align: right;\n",
       "    }\n",
       "</style>\n",
       "<table border=\"1\" class=\"dataframe\">\n",
       "  <thead>\n",
       "    <tr style=\"text-align: right;\">\n",
       "      <th></th>\n",
       "      <th>CustomerID</th>\n",
       "      <th>First_Name</th>\n",
       "      <th>Last_Name</th>\n",
       "      <th>Phone_Number</th>\n",
       "      <th>Paying Customer</th>\n",
       "      <th>Do_Not_Contact</th>\n",
       "      <th>Street_Address</th>\n",
       "      <th>State</th>\n",
       "      <th>Zipcode</th>\n",
       "    </tr>\n",
       "  </thead>\n",
       "  <tbody>\n",
       "    <tr>\n",
       "      <th>0</th>\n",
       "      <td>1001</td>\n",
       "      <td>Frodo</td>\n",
       "      <td>Baggins</td>\n",
       "      <td>123-545-5421</td>\n",
       "      <td>Y</td>\n",
       "      <td>N</td>\n",
       "      <td>123 Shire Lane</td>\n",
       "      <td>Shire</td>\n",
       "      <td>None</td>\n",
       "    </tr>\n",
       "    <tr>\n",
       "      <th>1</th>\n",
       "      <td>1005</td>\n",
       "      <td>Jon</td>\n",
       "      <td>Snow</td>\n",
       "      <td>876-678-3469</td>\n",
       "      <td>Y</td>\n",
       "      <td>N</td>\n",
       "      <td>123 Dragons Road</td>\n",
       "      <td>None</td>\n",
       "      <td>None</td>\n",
       "    </tr>\n",
       "    <tr>\n",
       "      <th>2</th>\n",
       "      <td>1008</td>\n",
       "      <td>Sherlock</td>\n",
       "      <td>Holmes</td>\n",
       "      <td>876-678-3469</td>\n",
       "      <td>N</td>\n",
       "      <td>N</td>\n",
       "      <td>98 Clue Drive</td>\n",
       "      <td>None</td>\n",
       "      <td>None</td>\n",
       "    </tr>\n",
       "    <tr>\n",
       "      <th>3</th>\n",
       "      <td>1010</td>\n",
       "      <td>Peter</td>\n",
       "      <td>Parker</td>\n",
       "      <td>123-545-5421</td>\n",
       "      <td>Y</td>\n",
       "      <td>N</td>\n",
       "      <td>25th Main Street</td>\n",
       "      <td>New York</td>\n",
       "      <td>None</td>\n",
       "    </tr>\n",
       "    <tr>\n",
       "      <th>4</th>\n",
       "      <td>1013</td>\n",
       "      <td>Don</td>\n",
       "      <td>Draper</td>\n",
       "      <td>123-543-2345</td>\n",
       "      <td>Y</td>\n",
       "      <td>N</td>\n",
       "      <td>2039 Main Street</td>\n",
       "      <td>None</td>\n",
       "      <td>None</td>\n",
       "    </tr>\n",
       "    <tr>\n",
       "      <th>5</th>\n",
       "      <td>1014</td>\n",
       "      <td>Leslie</td>\n",
       "      <td>Knope</td>\n",
       "      <td>876-678-3469</td>\n",
       "      <td>Y</td>\n",
       "      <td>N</td>\n",
       "      <td>343 City Parkway</td>\n",
       "      <td>None</td>\n",
       "      <td>None</td>\n",
       "    </tr>\n",
       "    <tr>\n",
       "      <th>6</th>\n",
       "      <td>1015</td>\n",
       "      <td>Toby</td>\n",
       "      <td>Flenderson</td>\n",
       "      <td>304-762-2467</td>\n",
       "      <td>N</td>\n",
       "      <td>N</td>\n",
       "      <td>214 HR Avenue</td>\n",
       "      <td>None</td>\n",
       "      <td>None</td>\n",
       "    </tr>\n",
       "    <tr>\n",
       "      <th>7</th>\n",
       "      <td>1016</td>\n",
       "      <td>Ron</td>\n",
       "      <td>Weasley</td>\n",
       "      <td>123-545-5421</td>\n",
       "      <td>N</td>\n",
       "      <td>N</td>\n",
       "      <td>2395 Hogwarts Avenue</td>\n",
       "      <td>None</td>\n",
       "      <td>None</td>\n",
       "    </tr>\n",
       "    <tr>\n",
       "      <th>8</th>\n",
       "      <td>1017</td>\n",
       "      <td>Michael</td>\n",
       "      <td>Scott</td>\n",
       "      <td>123-643-9775</td>\n",
       "      <td>Y</td>\n",
       "      <td>N</td>\n",
       "      <td>121 Paper Avenue</td>\n",
       "      <td>Pennsylvania</td>\n",
       "      <td>None</td>\n",
       "    </tr>\n",
       "    <tr>\n",
       "      <th>9</th>\n",
       "      <td>1020</td>\n",
       "      <td>Anakin</td>\n",
       "      <td>Skywalker</td>\n",
       "      <td>876-678-3469</td>\n",
       "      <td>Y</td>\n",
       "      <td>N</td>\n",
       "      <td>910 Tatooine Road</td>\n",
       "      <td>Tatooine</td>\n",
       "      <td>None</td>\n",
       "    </tr>\n",
       "  </tbody>\n",
       "</table>\n",
       "</div>"
      ],
      "text/plain": [
       "   CustomerID First_Name   Last_Name  Phone_Number Paying Customer  \\\n",
       "0        1001      Frodo     Baggins  123-545-5421               Y   \n",
       "1        1005        Jon        Snow  876-678-3469               Y   \n",
       "2        1008   Sherlock      Holmes  876-678-3469               N   \n",
       "3        1010      Peter      Parker  123-545-5421               Y   \n",
       "4        1013        Don      Draper  123-543-2345               Y   \n",
       "5        1014     Leslie       Knope  876-678-3469               Y   \n",
       "6        1015       Toby  Flenderson  304-762-2467               N   \n",
       "7        1016        Ron     Weasley  123-545-5421               N   \n",
       "8        1017   Michael        Scott  123-643-9775               Y   \n",
       "9        1020     Anakin   Skywalker  876-678-3469               Y   \n",
       "\n",
       "  Do_Not_Contact        Street_Address          State Zipcode  \n",
       "0              N        123 Shire Lane          Shire    None  \n",
       "1              N      123 Dragons Road           None    None  \n",
       "2              N         98 Clue Drive           None    None  \n",
       "3              N      25th Main Street       New York    None  \n",
       "4              N      2039 Main Street           None    None  \n",
       "5              N      343 City Parkway           None    None  \n",
       "6              N         214 HR Avenue           None    None  \n",
       "7              N  2395 Hogwarts Avenue           None    None  \n",
       "8              N      121 Paper Avenue   Pennsylvania    None  \n",
       "9              N     910 Tatooine Road       Tatooine    None  "
      ]
     },
     "execution_count": 54,
     "metadata": {},
     "output_type": "execute_result"
    }
   ],
   "source": [
    "#Resetting the index of the dataframe\n",
    "df.reset_index(drop=True)"
   ]
  },
  {
   "cell_type": "code",
   "execution_count": 55,
   "id": "62617a6d",
   "metadata": {},
   "outputs": [],
   "source": [
    "#Saving the file to the directory\n",
    "df.to_csv(r'C:\\Users\\sksub\\OneDrive\\Desktop\\Data\\Customer_Call_List_Cleaned.csv')"
   ]
  },
  {
   "cell_type": "code",
   "execution_count": null,
   "id": "0b3b7de1",
   "metadata": {},
   "outputs": [],
   "source": []
  }
 ],
 "metadata": {
  "kernelspec": {
   "display_name": "Python 3 (ipykernel)",
   "language": "python",
   "name": "python3"
  },
  "language_info": {
   "codemirror_mode": {
    "name": "ipython",
    "version": 3
   },
   "file_extension": ".py",
   "mimetype": "text/x-python",
   "name": "python",
   "nbconvert_exporter": "python",
   "pygments_lexer": "ipython3",
   "version": "3.9.12"
  }
 },
 "nbformat": 4,
 "nbformat_minor": 5
}
